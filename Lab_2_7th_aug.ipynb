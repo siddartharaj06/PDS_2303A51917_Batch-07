{
  "nbformat": 4,
  "nbformat_minor": 0,
  "metadata": {
    "colab": {
      "provenance": [],
      "include_colab_link": true
    },
    "kernelspec": {
      "name": "python3",
      "display_name": "Python 3"
    },
    "language_info": {
      "name": "python"
    }
  },
  "cells": [
    {
      "cell_type": "markdown",
      "metadata": {
        "id": "view-in-github",
        "colab_type": "text"
      },
      "source": [
        "<a href=\"https://colab.research.google.com/github/siddartharaj06/Python-For-Data-Science/blob/main/Lab_2_7th_aug.ipynb\" target=\"_parent\"><img src=\"https://colab.research.google.com/assets/colab-badge.svg\" alt=\"Open In Colab\"/></a>"
      ]
    },
    {
      "cell_type": "code",
      "execution_count": 1,
      "metadata": {
        "colab": {
          "base_uri": "https://localhost:8080/"
        },
        "id": "T4KZEALqNuDe",
        "outputId": "7e95be4d-c589-4a2c-eeb4-c238483a106d"
      },
      "outputs": [
        {
          "output_type": "stream",
          "name": "stdout",
          "text": [
            "Student Marks (Rows=Students, Cols=Subjects):\n",
            " [[85 78 92]\n",
            " [56 74 60]\n",
            " [90 88 95]\n",
            " [70 65 72]\n",
            " [88 92 85]]\n",
            "\n",
            "Overall Average Marks: 79.33333333333333\n",
            "Minimum Marks: 56\n",
            "Maximum Marks: 95\n",
            "\n",
            "Marks of Student 2: [56 74 60]\n",
            "Marks of Student 4: [70 65 72]\n",
            "\n",
            "Boolean Mask (True = score > 80):\n",
            " [[ True False  True]\n",
            " [False False False]\n",
            " [ True  True  True]\n",
            " [False False False]\n",
            " [ True  True  True]]\n",
            "\n",
            "Students scoring >80 in at least one subject: [1 3 5]\n",
            "\n",
            "Subject-wise Performance (Rows=Subjects, Cols=Students):\n",
            " [[85 56 90 70 88]\n",
            " [78 74 88 65 92]\n",
            " [92 60 95 72 85]]\n",
            "\n",
            "Observation:\n",
            "- Subject 3 has the highest marks overall.\n",
            "- Students 1, 3, and 5 frequently score above 80.\n",
            "- Subject-wise view shows consistency of Student 3 across all subjects.\n"
          ]
        }
      ],
      "source": [
        "# Student Grades Analysis Using NumPy Arrays\n",
        "\n",
        "import numpy as np\n",
        "\n",
        "# Step 1: Create a 2D NumPy array for student marks in 3 subjects\n",
        "# Rows → students, Columns → subjects\n",
        "marks = np.array([\n",
        "    [85, 78, 92],  # Student 1\n",
        "    [56, 74, 60],  # Student 2\n",
        "    [90, 88, 95],  # Student 3\n",
        "    [70, 65, 72],  # Student 4\n",
        "    [88, 92, 85]   # Student 5\n",
        "])\n",
        "\n",
        "print(\"Student Marks (Rows=Students, Cols=Subjects):\\n\", marks)\n",
        "\n",
        "# Step 2: Calculate average, minimum, and maximum marks\n",
        "average_marks = np.mean(marks)\n",
        "min_marks = np.min(marks)\n",
        "max_marks = np.max(marks)\n",
        "\n",
        "print(\"\\nOverall Average Marks:\", average_marks)\n",
        "print(\"Minimum Marks:\", min_marks)\n",
        "print(\"Maximum Marks:\", max_marks)\n",
        "\n",
        "# Step 3: Slicing → retrieve marks of specific students\n",
        "# Example: Marks of student 2 and 4\n",
        "print(\"\\nMarks of Student 2:\", marks[1])\n",
        "print(\"Marks of Student 4:\", marks[3])\n",
        "\n",
        "# Step 4: Boolean indexing → find students scoring above 80 in any subject\n",
        "above_80 = marks > 80\n",
        "print(\"\\nBoolean Mask (True = score > 80):\\n\", above_80)\n",
        "\n",
        "# Students who scored >80 in at least one subject\n",
        "students_above_80 = np.any(above_80, axis=1)\n",
        "print(\"\\nStudents scoring >80 in at least one subject:\", np.where(students_above_80)[0] + 1)\n",
        "\n",
        "# Step 5: Reshape the array → subject-wise performance\n",
        "# Shape before: (5 students × 3 subjects)\n",
        "# Shape after: (3 subjects × 5 students)\n",
        "subject_wise = marks.T\n",
        "print(\"\\nSubject-wise Performance (Rows=Subjects, Cols=Students):\\n\", subject_wise)\n",
        "\n",
        "# Step 6: Comment on observed results\n",
        "print(\"\\nObservation:\")\n",
        "print(\"- Subject 3 has the highest marks overall.\")\n",
        "print(\"- Students 1, 3, and 5 frequently score above 80.\")\n",
        "print(\"- Subject-wise view shows consistency of Student 3 across all subjects.\")\n"
      ]
    },
    {
      "cell_type": "code",
      "source": [
        "# Employee Salary Analysis with pandas DataFrame\n",
        "\n",
        "import pandas as pd\n",
        "\n",
        "# Step 1: Create DataFrame from dictionary\n",
        "data = {\n",
        "    \"Name\": [\"Alice\", \"Bob\", \"Charlie\", \"David\", \"Eva\"],\n",
        "    \"ID\": [101, 102, 103, 104, 105],\n",
        "    \"Department\": [\"HR\", \"IT\", \"Finance\", \"IT\", \"Marketing\"],\n",
        "    \"Salary\": [48000, 55000, 72000, 50000, 65000]\n",
        "}\n",
        "\n",
        "df = pd.DataFrame(data)\n",
        "print(\"Original DataFrame:\\n\", df)\n",
        "\n",
        "# Step 2: Filter employees with salary > 50,000\n",
        "high_salary_df = df[df[\"Salary\"] > 50000]\n",
        "print(\"\\nEmployees with Salary > 50,000:\\n\", high_salary_df)\n",
        "\n",
        "# Step 3: Sort DataFrame by salary in descending order\n",
        "sorted_df = df.sort_values(by=\"Salary\", ascending=False)\n",
        "print(\"\\nDataFrame Sorted by Salary (Descending):\\n\", sorted_df)\n",
        "\n",
        "# Step 4: Add a new column for Bonus (10% of salary)\n",
        "df[\"Bonus\"] = df[\"Salary\"] * 0.10\n",
        "print(\"\\nDataFrame with Bonus Column:\\n\", df)\n",
        "\n",
        "# Step 5: Calculate total salary expense including bonuses\n",
        "total_expense = df[\"Salary\"].sum() + df[\"Bonus\"].sum()\n",
        "print(\"\\nTotal Salary Expense (Including Bonuses):\", total_expense)\n",
        "\n",
        "# Step 6: Save DataFrame to a CSV file\n",
        "df.to_csv(\"employee_data.csv\", index=False)\n",
        "print(\"\\nDataFrame saved to 'employee_data.csv'\")\n"
      ],
      "metadata": {
        "colab": {
          "base_uri": "https://localhost:8080/"
        },
        "id": "sTXjwNLHObq_",
        "outputId": "ea7751cb-6a88-427f-e4aa-a9a501152d3a"
      },
      "execution_count": 2,
      "outputs": [
        {
          "output_type": "stream",
          "name": "stdout",
          "text": [
            "Original DataFrame:\n",
            "       Name   ID Department  Salary\n",
            "0    Alice  101         HR   48000\n",
            "1      Bob  102         IT   55000\n",
            "2  Charlie  103    Finance   72000\n",
            "3    David  104         IT   50000\n",
            "4      Eva  105  Marketing   65000\n",
            "\n",
            "Employees with Salary > 50,000:\n",
            "       Name   ID Department  Salary\n",
            "1      Bob  102         IT   55000\n",
            "2  Charlie  103    Finance   72000\n",
            "4      Eva  105  Marketing   65000\n",
            "\n",
            "DataFrame Sorted by Salary (Descending):\n",
            "       Name   ID Department  Salary\n",
            "2  Charlie  103    Finance   72000\n",
            "4      Eva  105  Marketing   65000\n",
            "1      Bob  102         IT   55000\n",
            "3    David  104         IT   50000\n",
            "0    Alice  101         HR   48000\n",
            "\n",
            "DataFrame with Bonus Column:\n",
            "       Name   ID Department  Salary   Bonus\n",
            "0    Alice  101         HR   48000  4800.0\n",
            "1      Bob  102         IT   55000  5500.0\n",
            "2  Charlie  103    Finance   72000  7200.0\n",
            "3    David  104         IT   50000  5000.0\n",
            "4      Eva  105  Marketing   65000  6500.0\n",
            "\n",
            "Total Salary Expense (Including Bonuses): 319000.0\n",
            "\n",
            "DataFrame saved to 'employee_data.csv'\n"
          ]
        }
      ]
    }
  ]
}