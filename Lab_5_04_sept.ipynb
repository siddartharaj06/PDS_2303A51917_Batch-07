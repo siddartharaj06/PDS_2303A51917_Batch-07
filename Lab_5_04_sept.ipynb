{
  "nbformat": 4,
  "nbformat_minor": 0,
  "metadata": {
    "colab": {
      "provenance": [],
      "include_colab_link": true
    },
    "kernelspec": {
      "name": "python3",
      "display_name": "Python 3"
    },
    "language_info": {
      "name": "python"
    }
  },
  "cells": [
    {
      "cell_type": "markdown",
      "metadata": {
        "id": "view-in-github",
        "colab_type": "text"
      },
      "source": [
        "<a href=\"https://colab.research.google.com/github/siddartharaj06/PDS_2303A51917_Batch-07/blob/main/Lab_5_04_sept.ipynb\" target=\"_parent\"><img src=\"https://colab.research.google.com/assets/colab-badge.svg\" alt=\"Open In Colab\"/></a>"
      ]
    },
    {
      "cell_type": "markdown",
      "source": [
        "**Merge Product and Sales Datasets and Compute Aggregate\n",
        "Statistics Using pandas**<br>\n",
        "• Objective:<br>\n",
        "• Learn how to merge product and sales data to analyze\n",
        "business performance and compute useful insights.<br>\n",
        "• Requirements:<br>\n",
        "• Create/import two datasets (Products and Sales).<br>\n",
        "• Merge them using product_id.<br>\n",
        "• Perform inner and outer joins.<br>\n",
        "• Compute statistics like total revenue, average price, and\n",
        "product-wise sales.<br>\n",
        "• Group by product category and find best-selling category.<br>\n",
        "• Deliverables:<br>\n",
        "• Python code for dataset creation, merging, and statistics.<br>\n",
        "• Outputs showing merged dataset and analysis.<br>\n",
        "• Discussion of key insights (e.g., which product/category\n",
        "contributes most revenue).<br>\n",
        "\n"
      ],
      "metadata": {
        "id": "Bj6PXcBp8tPP"
      }
    },
    {
      "cell_type": "markdown",
      "source": [
        "Step 1: Create Sample Datasets"
      ],
      "metadata": {
        "id": "S1E6Kl4B9arT"
      }
    },
    {
      "cell_type": "code",
      "execution_count": null,
      "metadata": {
        "id": "MGxdxvPv8dzU"
      },
      "outputs": [],
      "source": [
        "import pandas as pd\n",
        "\n",
        "# Product dataset\n",
        "products = pd.DataFrame({\n",
        "    \"product_id\": [101, 102, 103, 104, 105],\n",
        "    \"product_name\": [\"Laptop\", \"Smartphone\", \"Headphones\", \"Tablet\", \"Smartwatch\"],\n",
        "    \"category\": [\"Electronics\", \"Electronics\", \"Accessories\", \"Electronics\", \"Wearables\"],\n",
        "    \"price\": [80000, 30000, 2000, 25000, 15000]\n",
        "})\n",
        "\n",
        "# Sales dataset\n",
        "sales = pd.DataFrame({\n",
        "    \"sale_id\": [1, 2, 3, 4, 5, 6, 7],\n",
        "    \"product_id\": [101, 102, 103, 104, 102, 105, 103],\n",
        "    \"quantity\": [5, 10, 20, 7, 8, 12, 15]\n",
        "})\n"
      ]
    },
    {
      "cell_type": "code",
      "source": [
        "print(products)"
      ],
      "metadata": {
        "colab": {
          "base_uri": "https://localhost:8080/"
        },
        "id": "rHR5UUQeAFIs",
        "outputId": "06f8a1ad-e328-4b9c-f573-2022234989d1"
      },
      "execution_count": null,
      "outputs": [
        {
          "output_type": "stream",
          "name": "stdout",
          "text": [
            "   product_id product_name     category  price\n",
            "0         101       Laptop  Electronics  80000\n",
            "1         102   Smartphone  Electronics  30000\n",
            "2         103   Headphones  Accessories   2000\n",
            "3         104       Tablet  Electronics  25000\n",
            "4         105   Smartwatch    Wearables  15000\n"
          ]
        }
      ]
    },
    {
      "cell_type": "code",
      "source": [
        "print(sales)"
      ],
      "metadata": {
        "colab": {
          "base_uri": "https://localhost:8080/"
        },
        "id": "ZxxyleWTApuK",
        "outputId": "0a111e90-3411-43d9-c7f9-c694245fca6d"
      },
      "execution_count": null,
      "outputs": [
        {
          "output_type": "stream",
          "name": "stdout",
          "text": [
            "   sale_id  product_id  quantity\n",
            "0        1         101         5\n",
            "1        2         102        10\n",
            "2        3         103        20\n",
            "3        4         104         7\n",
            "4        5         102         8\n",
            "5        6         105        12\n",
            "6        7         103        15\n"
          ]
        }
      ]
    },
    {
      "cell_type": "markdown",
      "source": [
        "Step 2: Merge Using product_id"
      ],
      "metadata": {
        "id": "cyWsvlQO_Pzy"
      }
    },
    {
      "cell_type": "code",
      "source": [
        "# Inner Join (only matching product_ids)\n",
        "inner_merged = pd.merge(sales, products, on=\"product_id\", how=\"inner\")\n",
        "\n",
        "# Outer Join (all records from both datasets)\n",
        "outer_merged = pd.merge(sales, products, on=\"product_id\", how=\"outer\")\n",
        "\n",
        "print(\"Inner Join:\\n\", inner_merged, \"\\n\")\n",
        "print(\"Outer Join:\\n\", outer_merged)\n"
      ],
      "metadata": {
        "colab": {
          "base_uri": "https://localhost:8080/"
        },
        "id": "MifQaTl9_9XA",
        "outputId": "de25c2c5-ba44-4f20-c5c3-d4eef329d2b6"
      },
      "execution_count": null,
      "outputs": [
        {
          "output_type": "stream",
          "name": "stdout",
          "text": [
            "Inner Join:\n",
            "    sale_id  product_id  quantity product_name     category  price\n",
            "0        1         101         5       Laptop  Electronics  80000\n",
            "1        2         102        10   Smartphone  Electronics  30000\n",
            "2        3         103        20   Headphones  Accessories   2000\n",
            "3        4         104         7       Tablet  Electronics  25000\n",
            "4        5         102         8   Smartphone  Electronics  30000\n",
            "5        6         105        12   Smartwatch    Wearables  15000\n",
            "6        7         103        15   Headphones  Accessories   2000 \n",
            "\n",
            "Outer Join:\n",
            "    sale_id  product_id  quantity product_name     category  price\n",
            "0        1         101         5       Laptop  Electronics  80000\n",
            "1        2         102        10   Smartphone  Electronics  30000\n",
            "2        5         102         8   Smartphone  Electronics  30000\n",
            "3        3         103        20   Headphones  Accessories   2000\n",
            "4        7         103        15   Headphones  Accessories   2000\n",
            "5        4         104         7       Tablet  Electronics  25000\n",
            "6        6         105        12   Smartwatch    Wearables  15000\n"
          ]
        }
      ]
    },
    {
      "cell_type": "markdown",
      "source": [
        "Step 3: Compute Aggregate Statistics"
      ],
      "metadata": {
        "id": "VXFCKWP1_8Tm"
      }
    },
    {
      "cell_type": "code",
      "source": [
        "# Add revenue column\n",
        "inner_merged[\"revenue\"] = inner_merged[\"price\"] * inner_merged[\"quantity\"]\n",
        "\n",
        "# Total revenue\n",
        "total_revenue = inner_merged[\"revenue\"].sum()\n",
        "\n",
        "# Average price\n",
        "average_price = inner_merged[\"price\"].mean()\n",
        "\n",
        "# Product-wise sales (total quantity sold per product)\n",
        "product_sales = inner_merged.groupby(\"product_name\")[\"quantity\"].sum()\n",
        "\n",
        "# Product-wise revenue\n",
        "product_revenue = inner_merged.groupby(\"product_name\")[\"revenue\"].sum()"
      ],
      "metadata": {
        "id": "epuyCaoGBEmO"
      },
      "execution_count": null,
      "outputs": []
    },
    {
      "cell_type": "code",
      "source": [
        "print(\"Total Revenue:\", total_revenue)\n",
        "print(\"\\nAverage Price:\", average_price)\n",
        "print(\"\\nProduct-wise Sales:\\n\", product_sales)\n",
        "print(\"\\nProduct-wise Revenue:\\n\", product_revenue)"
      ],
      "metadata": {
        "colab": {
          "base_uri": "https://localhost:8080/"
        },
        "id": "C5Tby9aFBQrq",
        "outputId": "905969e5-5708-47ad-e723-49e940acde41"
      },
      "execution_count": null,
      "outputs": [
        {
          "output_type": "stream",
          "name": "stdout",
          "text": [
            "Total Revenue: 1365000\n",
            "\n",
            "Average Price: 26285.714285714286\n",
            "\n",
            "Product-wise Sales:\n",
            " product_name\n",
            "Headphones    35\n",
            "Laptop         5\n",
            "Smartphone    18\n",
            "Smartwatch    12\n",
            "Tablet         7\n",
            "Name: quantity, dtype: int64\n",
            "\n",
            "Product-wise Revenue:\n",
            " product_name\n",
            "Headphones     70000\n",
            "Laptop        400000\n",
            "Smartphone    540000\n",
            "Smartwatch    180000\n",
            "Tablet        175000\n",
            "Name: revenue, dtype: int64\n"
          ]
        }
      ]
    },
    {
      "cell_type": "markdown",
      "source": [
        "Step 4: Group by Category"
      ],
      "metadata": {
        "id": "g18quX05Bd2X"
      }
    },
    {
      "cell_type": "code",
      "source": [
        "# Category-wise revenue\n",
        "category_revenue = inner_merged.groupby(\"category\")[\"revenue\"].sum()\n",
        "\n",
        "# Find best-selling category\n",
        "best_category = category_revenue.idxmax()\n",
        "best_category_revenue = category_revenue.max()\n",
        "\n",
        "print(\"Category Revenue:\\n\", category_revenue)\n",
        "print(\"\\nBest-Selling Category:\", best_category, \"with revenue:\", best_category_revenue)"
      ],
      "metadata": {
        "colab": {
          "base_uri": "https://localhost:8080/"
        },
        "id": "y7GOk8m8BqEp",
        "outputId": "ba27334a-8ca7-439d-f754-4a746326871f"
      },
      "execution_count": null,
      "outputs": [
        {
          "output_type": "stream",
          "name": "stdout",
          "text": [
            "Category Revenue:\n",
            " category\n",
            "Accessories      70000\n",
            "Electronics    1115000\n",
            "Wearables       180000\n",
            "Name: revenue, dtype: int64\n",
            "\n",
            "Best-Selling Category: Electronics with revenue: 1115000\n"
          ]
        }
      ]
    },
    {
      "cell_type": "markdown",
      "source": [
        "Merge Teachers and Courses Datasets and Compute\n",
        "Aggregate Statistics<br>\n",
        "• Objective:<br>\n",
        "• Understand how to merge teacher and course datasets to<br>\n",
        "analyze workload distribution and compute teaching\n",
        "statistics.<br>\n",
        "• Requirements:<br>\n",
        "• Create two datasets (Teachers and Courses).<br>\n",
        "• Merge on teacher_id.<br>\n",
        "• Perform inner and left joins.<br>\n",
        "• Compute average courses per teacher.<br>\n",
        "• Group by department and calculate total workload.<br>\n",
        "• Deliverables:<br>\n",
        "• Python code to create, merge, and analyze datasets.<br>\n",
        "• Output tables showing merged dataset and computed stats.<br>\n",
        "• Discussion on teacher workload and department-wise\n",
        "distribution.\n",
        "\n"
      ],
      "metadata": {
        "id": "R0xuKIuiBuQZ"
      }
    },
    {
      "cell_type": "markdown",
      "source": [
        "Step 1: Create Sample Datasets"
      ],
      "metadata": {
        "id": "XgtmTho2C-Dg"
      }
    },
    {
      "cell_type": "code",
      "source": [
        "import pandas as pd\n",
        "\n",
        "# Teachers dataset\n",
        "teachers = pd.DataFrame({\n",
        "    \"teacher_id\": [1, 2, 3, 4],\n",
        "    \"teacher_name\": [\"Dr. Sharma\", \"Prof. Verma\", \"Dr. Khan\", \"Dr. Mehta\"],\n",
        "    \"department\": [\"Computer Science\", \"Mathematics\", \"Physics\", \"Computer Science\"]\n",
        "})\n",
        "\n",
        "# Courses dataset\n",
        "courses = pd.DataFrame({\n",
        "    \"course_id\": [101, 102, 103, 104, 105, 106, 107],\n",
        "    \"course_name\": [\"AI\", \"Data Structures\", \"Calculus\", \"Quantum Physics\",\n",
        "                    \"Machine Learning\", \"Algebra\", \"Operating Systems\"],\n",
        "    \"teacher_id\": [1, 1, 2, 3, 1, 2, 4]\n",
        "})"
      ],
      "metadata": {
        "id": "ZbpmlGsDDnsn"
      },
      "execution_count": null,
      "outputs": []
    },
    {
      "cell_type": "code",
      "source": [
        "print(teachers)"
      ],
      "metadata": {
        "colab": {
          "base_uri": "https://localhost:8080/"
        },
        "id": "xTy8tUHaDsfT",
        "outputId": "981b0445-7887-43ad-e9ce-c8cda029f031"
      },
      "execution_count": null,
      "outputs": [
        {
          "output_type": "stream",
          "name": "stdout",
          "text": [
            "   teacher_id teacher_name        department\n",
            "0           1   Dr. Sharma  Computer Science\n",
            "1           2  Prof. Verma       Mathematics\n",
            "2           3     Dr. Khan           Physics\n",
            "3           4    Dr. Mehta  Computer Science\n"
          ]
        }
      ]
    },
    {
      "cell_type": "code",
      "source": [
        "print(courses)"
      ],
      "metadata": {
        "colab": {
          "base_uri": "https://localhost:8080/"
        },
        "id": "U6LqKtsQDuSQ",
        "outputId": "1a8957b9-d043-430a-a29f-1f3a9e51a90b"
      },
      "execution_count": null,
      "outputs": [
        {
          "output_type": "stream",
          "name": "stdout",
          "text": [
            "   course_id        course_name  teacher_id\n",
            "0        101                 AI           1\n",
            "1        102    Data Structures           1\n",
            "2        103           Calculus           2\n",
            "3        104    Quantum Physics           3\n",
            "4        105   Machine Learning           1\n",
            "5        106            Algebra           2\n",
            "6        107  Operating Systems           4\n"
          ]
        }
      ]
    },
    {
      "cell_type": "markdown",
      "source": [
        "Step 2: Merge on teacher_id"
      ],
      "metadata": {
        "id": "sf5ezEMZD3EO"
      }
    },
    {
      "cell_type": "code",
      "source": [
        "# Inner Join (only teachers with assigned courses)\n",
        "inner_merge = pd.merge(courses, teachers, on=\"teacher_id\", how=\"inner\")\n",
        "\n",
        "# Left Join (all teachers, even if no assigned course)\n",
        "left_merge = pd.merge(teachers, courses, on=\"teacher_id\", how=\"left\")\n",
        "\n",
        "print(\"Inner Join:\\n\", inner_merge, \"\\n\")\n",
        "print(\"Left Join:\\n\", left_merge)"
      ],
      "metadata": {
        "colab": {
          "base_uri": "https://localhost:8080/"
        },
        "id": "SZeOUTpAEDc5",
        "outputId": "b6b9b02b-b5b0-47a6-f007-9bed9648fb57"
      },
      "execution_count": null,
      "outputs": [
        {
          "output_type": "stream",
          "name": "stdout",
          "text": [
            "Inner Join:\n",
            "    course_id        course_name  teacher_id teacher_name        department\n",
            "0        101                 AI           1   Dr. Sharma  Computer Science\n",
            "1        102    Data Structures           1   Dr. Sharma  Computer Science\n",
            "2        103           Calculus           2  Prof. Verma       Mathematics\n",
            "3        104    Quantum Physics           3     Dr. Khan           Physics\n",
            "4        105   Machine Learning           1   Dr. Sharma  Computer Science\n",
            "5        106            Algebra           2  Prof. Verma       Mathematics\n",
            "6        107  Operating Systems           4    Dr. Mehta  Computer Science \n",
            "\n",
            "Left Join:\n",
            "    teacher_id teacher_name        department  course_id        course_name\n",
            "0           1   Dr. Sharma  Computer Science        101                 AI\n",
            "1           1   Dr. Sharma  Computer Science        102    Data Structures\n",
            "2           1   Dr. Sharma  Computer Science        105   Machine Learning\n",
            "3           2  Prof. Verma       Mathematics        103           Calculus\n",
            "4           2  Prof. Verma       Mathematics        106            Algebra\n",
            "5           3     Dr. Khan           Physics        104    Quantum Physics\n",
            "6           4    Dr. Mehta  Computer Science        107  Operating Systems\n"
          ]
        }
      ]
    },
    {
      "cell_type": "markdown",
      "source": [
        "Step 3: Compute Teaching Statistics"
      ],
      "metadata": {
        "id": "ZfYIp3bbEbbk"
      }
    },
    {
      "cell_type": "code",
      "source": [
        "# Average number of courses per teacher\n",
        "courses_per_teacher = inner_merge.groupby(\"teacher_name\")[\"course_id\"].count()\n",
        "avg_courses = courses_per_teacher.mean()\n",
        "\n",
        "print(\"Courses per Teacher:\\n\", courses_per_teacher)\n",
        "print(\"\\nAverage Courses per Teacher:\", avg_courses)"
      ],
      "metadata": {
        "colab": {
          "base_uri": "https://localhost:8080/"
        },
        "id": "Uuxmcrj-EfPk",
        "outputId": "d76057f6-5086-4453-d45e-d3c847ede104"
      },
      "execution_count": null,
      "outputs": [
        {
          "output_type": "stream",
          "name": "stdout",
          "text": [
            "Courses per Teacher:\n",
            " teacher_name\n",
            "Dr. Khan       1\n",
            "Dr. Mehta      1\n",
            "Dr. Sharma     3\n",
            "Prof. Verma    2\n",
            "Name: course_id, dtype: int64\n",
            "\n",
            "Average Courses per Teacher: 1.75\n"
          ]
        }
      ]
    },
    {
      "cell_type": "markdown",
      "source": [
        "Step 4: Group by Department"
      ],
      "metadata": {
        "id": "pq--btEXEjgh"
      }
    },
    {
      "cell_type": "code",
      "source": [
        "# Department-wise workload (total courses taught)\n",
        "dept_workload = inner_merge.groupby(\"department\")[\"course_id\"].count()\n",
        "\n",
        "# Find department with maximum workload\n",
        "max_dept = dept_workload.idxmax()\n",
        "max_dept_courses = dept_workload.max()\n",
        "\n",
        "print(\"Department Workload:\\n\", dept_workload)\n",
        "print(\"\\nDepartment with highest workload:\", max_dept, \"with\", max_dept_courses, \"courses\")"
      ],
      "metadata": {
        "colab": {
          "base_uri": "https://localhost:8080/"
        },
        "id": "1l-uPTxvEkXM",
        "outputId": "e6620286-5bfb-4015-bbad-736cff17a3c7"
      },
      "execution_count": null,
      "outputs": [
        {
          "output_type": "stream",
          "name": "stdout",
          "text": [
            "Department Workload:\n",
            " department\n",
            "Computer Science    4\n",
            "Mathematics         2\n",
            "Physics             1\n",
            "Name: course_id, dtype: int64\n",
            "\n",
            "Department with highest workload: Computer Science with 4 courses\n"
          ]
        }
      ]
    }
  ]
}